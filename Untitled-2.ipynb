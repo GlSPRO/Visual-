Цель: на данной практической работе необходимо использовать датасет с прошлой практической работы и визуализировать данные в виде графиков. Вы должны использовать:
Линейный график - минимум 3 штуки (можете использовать наложение графиков)
Столбчатая диаграмма- минимум 3 штуки (можете также использовать наложение)
Круговая диаграмма - минимум 2 штуки
Диаграмма рассеяния - минимум 2 штуки
Гистограмма - минимум 3 штуки
Для каждого графика необходимо сделать вывод, вы должны написать, что у вас изображено на графике, как вы это получили, какие выводы сделали исходя из полученных данных
import pandas as pd
import numpy as np

spotify_songs = pd.read_csv("spotify_songs.csv")

spotify_songs
import matplotlib.pyplot as plt
1. Создание линейного графика.
import matplotlib.pyplot as plt
x = spotify_songs["track_album_release_date"].tail(10)
y = spotify_songs["track_popularity"].tail(10)

plt.plot(x, y, color= 'pink', marker= 'o', label= 'Линейный график')
plt.xlabel('Ось x')
plt.ylabel('Ось y')
plt.grid()
plt.legend()
plt.show()
2. Создание линейного графика 2.0

import matplotlib.pyplot as plt
x = spotify_songs["instrumentalness"].tail(10)
y = spotify_songs["track_popularity"].tail(10)

plt.plot(x, y, color= 'red', marker= 'o', label= 'Линейный график')
plt.xlabel('Живые инструменты')
plt.ylabel('Рейтинг')
plt.grid()
plt.legend()
plt.show()
3. Создание линейного графика 3.0
import matplotlib.pyplot as plt
x = spotify_songs["duration_ms"].tail(10)
y = spotify_songs["tempo"].tail(10)

plt.plot(x, y, color= 'green', marker= 'o', label= 'Линейный график')
plt.xlabel('Длительность трека')
plt.ylabel('Темп')
plt.grid()
plt.legend()
plt.show()
4. Столбчатая диаграмма 1.0
import matplotlib.pyplot as plt
x = spotify_songs["track_album_release_date"].tail(10)
y = spotify_songs["track_popularity"].tail(10)

plt.bar(x, y, label= 'Столбчатая диаграмма',color= 'green',)
plt.xlabel('Название плейлиста')
plt.ylabel('Популярность')
plt.grid()
plt.legend()
plt.show()
6. Столбчатая диаграмма 2.0
import matplotlib.pyplot as plt
x = spotify_songs["track_name"].tail(10)
y = spotify_songs["track_popularity"].tail(10)

plt.bar(x, y, label= 'Столбчатая диаграмма',color= 'blue',)
plt.xlabel('Название трека')
plt.ylabel('Популярность')
plt.grid()
plt.legend()
plt.show()
7. Столбчатая диаграмма 3.0
import matplotlib.pyplot as plt
x = spotify_songs["track_name"].tail(10)
y = spotify_songs["speechiness"].tail(10)

plt.bar(x, y, label= 'Столбчатая диаграмма',color= 'orange',)
plt.xlabel('Название трека')
plt.ylabel('Красноречивость')
plt.grid()
plt.legend()
plt.show()
8. Круговая диаграмма 1.0
import matplotlib.pyplot as plt
vals = spotify_songs["acousticness"].tail(6)
labels = spotify_songs["track_name"].tail(6)

plt.pie(vals, labels= labels)
plt.title('Плотность живых инструментов в треке')
plt.show()
9. Круговая диаграмма 2.0
import matplotlib.pyplot as plt
vals = spotify_songs["track_popularity"].tail(8)
labels = spotify_songs["track_artist"].tail(8)

plt.pie(vals, labels= labels)
plt.title('Популярность в зависимости от артиста')
plt.show()	
10. Диаграмма рассеяния 1.0.
import matplotlib.pyplot as plt
x = spotify_songs["track_popularity"].tail(20)
y = spotify_songs["track_artist"].tail(20)

plt.scatter(x, y)
plt.show()	
11. Диаграмма рассеяния 2.0.
import matplotlib.pyplot as plt
x = spotify_songs["speechiness"].tail(20)
y = spotify_songs["track_popularity"].tail(20)

plt.scatter(x, y)
plt.show()	
12. Гистраграмма. 
import matplotlib.pyplot as plt
data = spotify_songs["track_popularity"].head()

plt.figure(figsize=(10, 6))
plt.hist(spotify_songs['track_popularity'], bins= 30, color= ["red"], edgecolor='orange', alpha = 0.7, label= 'Распределение популярности по артисту')
plt.xlabel('Популярность ')
plt.ylabel('Артист')
plt.legend()
plt.show()
